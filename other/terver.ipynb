{
 "cells": [
  {
   "cell_type": "code",
   "execution_count": 1,
   "id": "84c2946c",
   "metadata": {},
   "outputs": [],
   "source": [
    "import pandas as pd\n",
    "import numpy as np\n",
    "from scipy import stats, integrate\n",
    "# Программу написал Куцевалов Данила Вячеславович ПМиИ Мех-мат 2021г\n",
    "\n",
    "# установка в одну команду:\n",
    "# pip install notebook pandas numpy scipy\n",
    "\n",
    "# запуск:\n",
    "# jupyter notebook"
   ]
  },
  {
   "cell_type": "code",
   "execution_count": 2,
   "id": "5e7474a1",
   "metadata": {},
   "outputs": [
    {
     "name": "stdout",
     "output_type": "stream",
     "text": [
      "n: 50\n"
     ]
    }
   ],
   "source": [
    "# 8 вариант\n",
    "x_i = [0.24, 0.28, 0.32, 0.36, 0.40, 0.44]\n",
    "n_i = [5, 8, 22, 9, 6]\n",
    "\n",
    "\n",
    "gamma1 = 0.95\n",
    "gamma2 = 0.99\n",
    "alpha = 0.05 # Порядок значимости\n",
    "\n",
    "n = np.sum(n_i)\n",
    "k = 2 # Кол-во оцениваемых параметров это x_i и n_i (степень свободы)\n",
    "m = len(n_i) # Кол-во значений параметров\n",
    "\n",
    "i = range(1, m+1)\n",
    "\n",
    "print('n:', n)"
   ]
  },
  {
   "cell_type": "code",
   "execution_count": 3,
   "id": "99b42d9c",
   "metadata": {},
   "outputs": [
    {
     "name": "stdout",
     "output_type": "stream",
     "text": [
      "X с чертой: 0.34240000000000004\n",
      "S^2: 0.001946239999999988    S: 0.04411621017267902\n",
      "sigma^2: 0.0019859591836734573    sigma: 0.04456410196193184\n"
     ]
    }
   ],
   "source": [
    "data = pd.DataFrame(columns=['n_i', 'x_i'], index=i, data=zip(n_i, x_i[:-1]))\n",
    "data['x_i+1']= data['x_i'].shift(-1).fillna(x_i[-1])\n",
    "\n",
    "# Центры между точками x_i\n",
    "data['x_i_sub'] = (data['x_i+1'] - data['x_i']) / 2 + data['x_i']\n",
    "# x с чертой\n",
    "x_ = np.sum(data['n_i'] * data['x_i_sub']) / n\n",
    "\n",
    "\n",
    "S2 = np.sum(data['n_i'] * np.power(data['x_i_sub'], 2)) / n - np.power(x_, 2)\n",
    "S = np.sqrt(S2)\n",
    "sig2 = S2 * n / (n-1)\n",
    "sig = np.sqrt(sig2)\n",
    "\n",
    "print('X с чертой:', x_)\n",
    "print('S^2:', S2, '   S:', S)\n",
    "print('sigma^2:', sig2, '   sigma:', sig)"
   ]
  },
  {
   "cell_type": "code",
   "execution_count": 4,
   "id": "96764714",
   "metadata": {},
   "outputs": [
    {
     "name": "stdout",
     "output_type": "stream",
     "text": [
      "При t(0.95, 50)=2.009575234489209 : [0.3297350223710662; 0.35506497762893385]\n",
      "При t(0.99, 50)=2.67995197363155 : [0.3255100964969407; 0.3592899035030594]\n"
     ]
    }
   ],
   "source": [
    "# Доверительный интервал\n",
    "def confidence_interval(t_gamma):\n",
    "    r_part = t_gamma * sig / np.sqrt(n)\n",
    "    return (x_ - r_part, x_ + r_part)\n",
    "\n",
    "# Найти эту формулу стоило немало усилий T_T\n",
    "t_gamma1 = stats.t.ppf((1 + gamma1)/2, n-1) # t(gamma, n)\n",
    "t_gamma2 = stats.t.ppf((1 + gamma2)/2, n-1) # t(gamma, n)\n",
    "print('При t({gamma}, {n})={t} : [{}; {}]'.format(gamma=gamma1,n=n, t=t_gamma1, *confidence_interval(t_gamma1)))\n",
    "print('При t({gamma}, {n})={t} : [{}; {}]'.format(gamma=gamma2,n=n, t=t_gamma2, *confidence_interval(t_gamma2)))"
   ]
  },
  {
   "cell_type": "code",
   "execution_count": 5,
   "id": "50e813af",
   "metadata": {},
   "outputs": [
    {
     "data": {
      "image/png": "[encoded data removed]",
      "text/plain": [
       "<Figure size 432x288 with 1 Axes>"
      ]
     },
     "metadata": {
      "needs_background": "light"
     },
     "output_type": "display_data"
    }
   ],
   "source": [
    "data.loc[: , ['x_i_sub', 'n_i']].set_index('x_i_sub').plot(grid=True)\n",
    "data = data.drop(columns='x_i_sub')"
   ]
  },
  {
   "cell_type": "code",
   "execution_count": 6,
   "id": "b2475e0b",
   "metadata": {},
   "outputs": [],
   "source": [
    "z_i = lambda x: (x - x_)/sig\n",
    "\n",
    "data['z_i'] = z_i(data['x_i'])\n",
    "data.at[1, 'z_i'] = -np.infty\n",
    "data['z_i+1'] = data['z_i'].shift(-1).fillna(+np.infty)"
   ]
  },
  {
   "cell_type": "code",
   "execution_count": 7,
   "id": "6f291c93",
   "metadata": {},
   "outputs": [],
   "source": [
    "def fhi(x):\n",
    "    sign = -1 if x < 0 else 1\n",
    "\n",
    "    if np.isinf(x):\n",
    "        return sign * 0.5\n",
    "\n",
    "    def f(t):\n",
    "        return np.exp(-(t*t)/2)\n",
    "    value = 1/(np.sqrt(2*np.pi)) * integrate.quad(f, 0, abs(x))[0]\n",
    "\n",
    "    return sign * value"
   ]
  },
  {
   "cell_type": "code",
   "execution_count": 8,
   "id": "91509e7c",
   "metadata": {},
   "outputs": [],
   "source": [
    "data['fhi(z_i)'] = np.array(map(lambda x: fhi(x[1]), data['z_i'].iteritems()))\n",
    "data['fhi(z_i+1)'] = data['fhi(z_i)'].shift(-1).fillna(0.5)\n",
    "data['p_i'] = data['fhi(z_i+1)'] - data['fhi(z_i)']\n",
    "\n",
    "data['n\\'_i'] = data['p_i'] * n\n",
    "data['(n_i - n\\'_i)^2 / n\\'_i'] = np.power(data['n_i'] - data['n\\'_i'], 2) / data['n\\'_i']\n",
    "\n",
    "data['F_n'] = data['n_i'].cumsum() / n\n",
    "data['F_o'] = data['p_i'].cumsum()\n",
    "data['|F_n - F_o|'] = np.abs(data['F_n'] - data['F_o'])\n"
   ]
  },
  {
   "cell_type": "code",
   "execution_count": 9,
   "id": "bc1e5962",
   "metadata": {},
   "outputs": [
    {
     "name": "stdout",
     "output_type": "stream",
     "text": [
      "X^2 наблюдаемое: 3.67993765549942\n",
      "D наблюдаемое: 0.047606335247313725\n"
     ]
    }
   ],
   "source": [
    "X2_nablud = np.sum(data['(n_i - n\\'_i)^2 / n\\'_i'])\n",
    "print('X^2 наблюдаемое:', X2_nablud)\n",
    "\n",
    "D_nablud = np.max(data['|F_n - F_o|'])\n",
    "print('D наблюдаемое:', D_nablud)"
   ]
  },
  {
   "cell_type": "code",
   "execution_count": 10,
   "id": "54fd5391",
   "metadata": {},
   "outputs": [
    {
     "data": {
      "text/html": [
       "<div>\n",
       "<style scoped>\n",
       "    .dataframe tbody tr th:only-of-type {\n",
       "        vertical-align: middle;\n",
       "    }\n",
       "\n",
       "    .dataframe tbody tr th {\n",
       "        vertical-align: top;\n",
       "    }\n",
       "\n",
       "    .dataframe thead th {\n",
       "        text-align: right;\n",
       "    }\n",
       "</style>\n",
       "<table border=\"1\" class=\"dataframe\">\n",
       "  <thead>\n",
       "    <tr style=\"text-align: right;\">\n",
       "      <th></th>\n",
       "      <th>n_i</th>\n",
       "      <th>x_i</th>\n",
       "      <th>x_i+1</th>\n",
       "      <th>z_i</th>\n",
       "      <th>z_i+1</th>\n",
       "      <th>fhi(z_i)</th>\n",
       "      <th>fhi(z_i+1)</th>\n",
       "      <th>p_i</th>\n",
       "      <th>n'_i</th>\n",
       "      <th>(n_i - n'_i)^2 / n'_i</th>\n",
       "      <th>F_n</th>\n",
       "      <th>F_o</th>\n",
       "      <th>|F_n - F_o|</th>\n",
       "    </tr>\n",
       "  </thead>\n",
       "  <tbody>\n",
       "    <tr>\n",
       "      <th>1</th>\n",
       "      <td>5.0</td>\n",
       "      <td>0.24</td>\n",
       "      <td>0.28</td>\n",
       "      <td>-inf</td>\n",
       "      <td>-1.4002</td>\n",
       "      <td>-0.5000</td>\n",
       "      <td>-0.4193</td>\n",
       "      <td>0.0807</td>\n",
       "      <td>4.0361</td>\n",
       "      <td>0.2302</td>\n",
       "      <td>0.10</td>\n",
       "      <td>0.0807</td>\n",
       "      <td>0.0193</td>\n",
       "    </tr>\n",
       "    <tr>\n",
       "      <th>2</th>\n",
       "      <td>8.0</td>\n",
       "      <td>0.28</td>\n",
       "      <td>0.32</td>\n",
       "      <td>-1.4002</td>\n",
       "      <td>-0.5026</td>\n",
       "      <td>-0.4193</td>\n",
       "      <td>-0.1924</td>\n",
       "      <td>0.2269</td>\n",
       "      <td>11.3442</td>\n",
       "      <td>0.9859</td>\n",
       "      <td>0.26</td>\n",
       "      <td>0.3076</td>\n",
       "      <td>0.0476</td>\n",
       "    </tr>\n",
       "    <tr>\n",
       "      <th>3</th>\n",
       "      <td>22.0</td>\n",
       "      <td>0.32</td>\n",
       "      <td>0.36</td>\n",
       "      <td>-0.5026</td>\n",
       "      <td>0.3949</td>\n",
       "      <td>-0.1924</td>\n",
       "      <td>0.1536</td>\n",
       "      <td>0.3459</td>\n",
       "      <td>17.2974</td>\n",
       "      <td>1.2785</td>\n",
       "      <td>0.70</td>\n",
       "      <td>0.6536</td>\n",
       "      <td>0.0464</td>\n",
       "    </tr>\n",
       "    <tr>\n",
       "      <th>4</th>\n",
       "      <td>9.0</td>\n",
       "      <td>0.36</td>\n",
       "      <td>0.40</td>\n",
       "      <td>0.3949</td>\n",
       "      <td>1.2925</td>\n",
       "      <td>0.1536</td>\n",
       "      <td>0.4019</td>\n",
       "      <td>0.2484</td>\n",
       "      <td>12.4178</td>\n",
       "      <td>0.9407</td>\n",
       "      <td>0.88</td>\n",
       "      <td>0.9019</td>\n",
       "      <td>0.0219</td>\n",
       "    </tr>\n",
       "    <tr>\n",
       "      <th>5</th>\n",
       "      <td>6.0</td>\n",
       "      <td>0.40</td>\n",
       "      <td>0.44</td>\n",
       "      <td>1.2925</td>\n",
       "      <td>inf</td>\n",
       "      <td>0.4019</td>\n",
       "      <td>0.5000</td>\n",
       "      <td>0.0981</td>\n",
       "      <td>4.9044</td>\n",
       "      <td>0.2447</td>\n",
       "      <td>1.00</td>\n",
       "      <td>1.0000</td>\n",
       "      <td>0.0000</td>\n",
       "    </tr>\n",
       "  </tbody>\n",
       "</table>\n",
       "</div>"
      ],
      "text/plain": [
       "    n_i   x_i  x_i+1     z_i   z_i+1  fhi(z_i)  fhi(z_i+1)     p_i     n'_i  \\\n",
       "1   5.0  0.24   0.28    -inf -1.4002   -0.5000     -0.4193  0.0807   4.0361   \n",
       "2   8.0  0.28   0.32 -1.4002 -0.5026   -0.4193     -0.1924  0.2269  11.3442   \n",
       "3  22.0  0.32   0.36 -0.5026  0.3949   -0.1924      0.1536  0.3459  17.2974   \n",
       "4   9.0  0.36   0.40  0.3949  1.2925    0.1536      0.4019  0.2484  12.4178   \n",
       "5   6.0  0.40   0.44  1.2925     inf    0.4019      0.5000  0.0981   4.9044   \n",
       "\n",
       "   (n_i - n'_i)^2 / n'_i   F_n     F_o  |F_n - F_o|  \n",
       "1                 0.2302  0.10  0.0807       0.0193  \n",
       "2                 0.9859  0.26  0.3076       0.0476  \n",
       "3                 1.2785  0.70  0.6536       0.0464  \n",
       "4                 0.9407  0.88  0.9019       0.0219  \n",
       "5                 0.2447  1.00  1.0000       0.0000  "
      ]
     },
     "execution_count": 10,
     "metadata": {},
     "output_type": "execute_result"
    }
   ],
   "source": [
    "# Округляем до 4 знаков после запятой\n",
    "data.astype(float).round(4) # если не привести к типу float, то округление не сработает\n"
   ]
  }
 ],
 "metadata": {
  "kernelspec": {
   "display_name": "Python 3 (ipykernel)",
   "language": "python",
   "name": "python3"
  },
  "language_info": {
   "codemirror_mode": {
    "name": "ipython",
    "version": 3
   },
   "file_extension": ".py",
   "mimetype": "text/x-python",
   "name": "python",
   "nbconvert_exporter": "python",
   "pygments_lexer": "ipython3",
   "version": "3.8.10"
  }
 },
 "nbformat": 4,
 "nbformat_minor": 5
}
