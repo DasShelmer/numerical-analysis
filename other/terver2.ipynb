{
 "cells": [
  {
   "cell_type": "code",
   "execution_count": 1,
   "metadata": {},
   "outputs": [],
   "source": [
    "import pandas as pd\n",
    "import numpy as np\n",
    "import scipy.stats as stats\n",
    "# Программу написал Куцевалов Данила Вячеславович ПМиИ Мех-мат 2021г"
   ]
  },
  {
   "cell_type": "code",
   "execution_count": 2,
   "metadata": {},
   "outputs": [],
   "source": [
    "# 8 вариант\n",
    "# x = [102, 85, 88, 62, 107, 60, 53, 40, 22, 32]\n",
    "# y = [3.7, 4.3, 3.5, 3.8, 4.2, 3.0, 3.2, 2.5, 2.8, 2.6]\n",
    "# X_0 = 75\n",
    "\n",
    "# 7 вариант\n",
    "x = [45, 30, 38, 65, 91, 68, 94, 89, 106, 96]\n",
    "y = [2.3, 2.4, 1.9, 1.7, 2.3, 4.3, 3.1, 2.6, 4.9, 3.6]\n",
    "X_0 = 75\n",
    "\n",
    "alpha = 0.05\n",
    "\n",
    "n = len(x)\n",
    "k = n-2 # степень свободы\n",
    "\n",
    "df = pd.DataFrame(columns=['x', 'y'], data=zip(x, y))"
   ]
  },
  {
   "cell_type": "code",
   "execution_count": 3,
   "metadata": {},
   "outputs": [
    {
     "name": "stdout",
     "output_type": "stream",
     "text": [
      "x_: 72.2000  S^2_x: 657.9600  S_x: 25.6507\n",
      "y_: 2.9100  S^2_y: 0.9989  S_y: 0.9994\n",
      "xy_: 224.7700  r: 0.5722 \n",
      "t наблюдаемое: 1.9732  t критическое: 2.3060 \n",
      "Коэфф. корреляции отличается от 0 незначительно.\n"
     ]
    }
   ],
   "source": [
    "x_ = np.sum(df['x']) / n\n",
    "S2_x = np.sum(np.square(df['x'])) / n - np.square(x_)\n",
    "S_x = np.sqrt(S2_x)\n",
    "\n",
    "y_ = np.sum(df['y']) / n\n",
    "S2_y = np.sum(np.square(df['y'])) / n - np.square(y_)\n",
    "S_y = np.sqrt(S2_y)\n",
    "\n",
    "xy_ = np.sum(df['x'] * df['y']) / n\n",
    "\n",
    "r = (xy_ - x_ * y_) / (S_x * S_y)\n",
    "\n",
    "t_nablud = r * np.sqrt(k/(1-np.square(r)))\n",
    "t_krit = stats.t.ppf(1- alpha/2, k) # Проверил, с табличкой совпадает\n",
    "\n",
    "corr_far_from_zero = np.abs(t_nablud) > t_krit\n",
    "\n",
    "print('x_: {:.4f}  S^2_x: {:.4f}  S_x: {:.4f}'.format(x_, S2_x, S_x))\n",
    "print('y_: {:.4f}  S^2_y: {:.4f}  S_y: {:.4f}'.format(y_, S2_y, S_y))\n",
    "print('xy_: {:.4f}  r: {:.4f} '.format(xy_, r))\n",
    "print('t наблюдаемое: {:.4f}  t критическое: {:.4f} '.format(t_nablud, t_krit))\n",
    "\n",
    "if corr_far_from_zero:\n",
    "    print('Коэфф. корреляции значимо отличается от 0.')\n",
    "else:\n",
    "    print('Коэфф. корреляции отличается от 0 незначительно.')"
   ]
  },
  {
   "cell_type": "code",
   "execution_count": 4,
   "metadata": {},
   "outputs": [
    {
     "name": "stdout",
     "output_type": "stream",
     "text": [
      "Уравнение регрессии: y_x_ = 0.0223*x + 1.3004\n"
     ]
    }
   ],
   "source": [
    "\n",
    "# Строим уравнение лин. регрессии\n",
    "# y_x_ = y_ + r* S_y / S_x * (x - x_)\n",
    "# Упростим:\n",
    "# y_x_ = (r* S_y / S_x) * x + (y_ - r* S_y / S_x * x_)\n",
    "\n",
    "a = r * (S_y / S_x)\n",
    "b = y_ - r * (S_y / S_x) * x_\n",
    "\n",
    "# Уравнение простейшей линейной регрессии\n",
    "def y_x_(x):\n",
    "    return a*x + b\n",
    "\n",
    "print('Уравнение регрессии: y_x_ = {:.4f}*x + {:.4f}'.format(a, b))"
   ]
  },
  {
   "cell_type": "code",
   "execution_count": 5,
   "metadata": {},
   "outputs": [
    {
     "name": "stdout",
     "output_type": "stream",
     "text": [
      "Максимальная ошибка: 1.4836\n"
     ]
    }
   ],
   "source": [
    "# Прогнозируем известные значения\n",
    "df['y\\''] = y_x_(df['x'])\n",
    "\n",
    "# Ищем максимальную ошибку\n",
    "df['error'] = np.abs(df['y\\''] - df['y'])\n",
    "max_err = np.max(df['error'])\n",
    "print('Максимальная ошибка: {:.4f}'.format(max_err))"
   ]
  },
  {
   "cell_type": "code",
   "execution_count": 6,
   "metadata": {},
   "outputs": [
    {
     "name": "stdout",
     "output_type": "stream",
     "text": [
      "X*: 75  Y*: 2.9724\n"
     ]
    }
   ],
   "source": [
    "# вычисляем значение в точке X_0 (она же X*)\n",
    "Y_0 = y_x_(X_0)\n",
    "print('X*: {}  Y*: {:.4f}'.format(X_0, Y_0))"
   ]
  },
  {
   "cell_type": "code",
   "execution_count": 7,
   "metadata": {},
   "outputs": [
    {
     "data": {
      "text/plain": [
       "<matplotlib.lines._AxLine at 0x7f1640fe9b80>"
      ]
     },
     "execution_count": 7,
     "metadata": {},
     "output_type": "execute_result"
    },
    {
     "data": {
      "image/png": "[encoded data removed]",
      "text/plain": [
       "<Figure size 432x288 with 1 Axes>"
      ]
     },
     "metadata": {
      "needs_background": "light"
     },
     "output_type": "display_data"
    }
   ],
   "source": [
    "# Строим диаграмму рассеяния\n",
    "ax1 = df.plot(kind='scatter', x='x', y='y', color='blue', grid=True)\n",
    "ax2 = df.plot(kind='scatter', x='x', y='y\\'', color='red', ax=ax1)\n",
    "\n",
    "point1 = (df['x'].iloc[0], df['y\\''].iloc[0])\n",
    "point2 = (df['x'].iloc[-1], df['y\\''].iloc[-1])\n",
    "ax2.axline(point1, point2, color='C3')\n"
   ]
  },
  {
   "cell_type": "code",
   "execution_count": 8,
   "metadata": {},
   "outputs": [
    {
     "data": {
      "text/html": [
       "<div>\n",
       "<style scoped>\n",
       "    .dataframe tbody tr th:only-of-type {\n",
       "        vertical-align: middle;\n",
       "    }\n",
       "\n",
       "    .dataframe tbody tr th {\n",
       "        vertical-align: top;\n",
       "    }\n",
       "\n",
       "    .dataframe thead th {\n",
       "        text-align: right;\n",
       "    }\n",
       "</style>\n",
       "<table border=\"1\" class=\"dataframe\">\n",
       "  <thead>\n",
       "    <tr style=\"text-align: right;\">\n",
       "      <th></th>\n",
       "      <th>x</th>\n",
       "      <th>y</th>\n",
       "      <th>y'</th>\n",
       "      <th>error</th>\n",
       "    </tr>\n",
       "  </thead>\n",
       "  <tbody>\n",
       "    <tr>\n",
       "      <th>1</th>\n",
       "      <td>30</td>\n",
       "      <td>2.4</td>\n",
       "      <td>1.9692</td>\n",
       "      <td>0.4308</td>\n",
       "    </tr>\n",
       "    <tr>\n",
       "      <th>2</th>\n",
       "      <td>38</td>\n",
       "      <td>1.9</td>\n",
       "      <td>2.1476</td>\n",
       "      <td>0.2476</td>\n",
       "    </tr>\n",
       "    <tr>\n",
       "      <th>0</th>\n",
       "      <td>45</td>\n",
       "      <td>2.3</td>\n",
       "      <td>2.3036</td>\n",
       "      <td>0.0036</td>\n",
       "    </tr>\n",
       "    <tr>\n",
       "      <th>3</th>\n",
       "      <td>65</td>\n",
       "      <td>1.7</td>\n",
       "      <td>2.7495</td>\n",
       "      <td>1.0495</td>\n",
       "    </tr>\n",
       "    <tr>\n",
       "      <th>5</th>\n",
       "      <td>68</td>\n",
       "      <td>4.3</td>\n",
       "      <td>2.8164</td>\n",
       "      <td>1.4836</td>\n",
       "    </tr>\n",
       "    <tr>\n",
       "      <th>7</th>\n",
       "      <td>89</td>\n",
       "      <td>2.6</td>\n",
       "      <td>3.2845</td>\n",
       "      <td>0.6845</td>\n",
       "    </tr>\n",
       "    <tr>\n",
       "      <th>4</th>\n",
       "      <td>91</td>\n",
       "      <td>2.3</td>\n",
       "      <td>3.3291</td>\n",
       "      <td>1.0291</td>\n",
       "    </tr>\n",
       "    <tr>\n",
       "      <th>6</th>\n",
       "      <td>94</td>\n",
       "      <td>3.1</td>\n",
       "      <td>3.3960</td>\n",
       "      <td>0.2960</td>\n",
       "    </tr>\n",
       "    <tr>\n",
       "      <th>9</th>\n",
       "      <td>96</td>\n",
       "      <td>3.6</td>\n",
       "      <td>3.4406</td>\n",
       "      <td>0.1594</td>\n",
       "    </tr>\n",
       "    <tr>\n",
       "      <th>8</th>\n",
       "      <td>106</td>\n",
       "      <td>4.9</td>\n",
       "      <td>3.6635</td>\n",
       "      <td>1.2365</td>\n",
       "    </tr>\n",
       "  </tbody>\n",
       "</table>\n",
       "</div>"
      ],
      "text/plain": [
       "     x    y      y'   error\n",
       "1   30  2.4  1.9692  0.4308\n",
       "2   38  1.9  2.1476  0.2476\n",
       "0   45  2.3  2.3036  0.0036\n",
       "3   65  1.7  2.7495  1.0495\n",
       "5   68  4.3  2.8164  1.4836\n",
       "7   89  2.6  3.2845  0.6845\n",
       "4   91  2.3  3.3291  1.0291\n",
       "6   94  3.1  3.3960  0.2960\n",
       "9   96  3.6  3.4406  0.1594\n",
       "8  106  4.9  3.6635  1.2365"
      ]
     },
     "execution_count": 8,
     "metadata": {},
     "output_type": "execute_result"
    }
   ],
   "source": [
    "# Выводим отсортированную по x таблицу\n",
    "df.sort_values('x').round(4) # Округление до 4 знаков\n"
   ]
  }
 ],
 "metadata": {
  "interpreter": {
   "hash": "916dbcbb3f70747c44a77c7bcd40155683ae19c65e1c03b4aa3499c5328201f1"
  },
  "kernelspec": {
   "display_name": "Python 3.8.10 64-bit",
   "language": "python",
   "name": "python3"
  },
  "language_info": {
   "codemirror_mode": {
    "name": "ipython",
    "version": 3
   },
   "file_extension": ".py",
   "mimetype": "text/x-python",
   "name": "python",
   "nbconvert_exporter": "python",
   "pygments_lexer": "ipython3",
   "version": "3.8.10"
  },
  "orig_nbformat": 4
 },
 "nbformat": 4,
 "nbformat_minor": 2
}
